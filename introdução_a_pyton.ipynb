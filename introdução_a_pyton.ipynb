{
  "nbformat": 4,
  "nbformat_minor": 0,
  "metadata": {
    "colab": {
      "provenance": [],
      "authorship_tag": "ABX9TyOhHXulj5Fub9gPVhQytDcA",
      "include_colab_link": true
    },
    "kernelspec": {
      "name": "python3",
      "display_name": "Python 3"
    },
    "language_info": {
      "name": "python"
    }
  },
  "cells": [
    {
      "cell_type": "markdown",
      "metadata": {
        "id": "view-in-github",
        "colab_type": "text"
      },
      "source": [
        "<a href=\"https://colab.research.google.com/github/luizhenrique16/introdu-ao-a-pyton/blob/main/introdu%C3%A7%C3%A3o_a_pyton.ipynb\" target=\"_parent\"><img src=\"https://colab.research.google.com/assets/colab-badge.svg\" alt=\"Open In Colab\"/></a>"
      ]
    },
    {
      "cell_type": "markdown",
      "source": [
        "## Aula 1"
      ],
      "metadata": {
        "id": "Uy0SF4QwKC8j"
      }
    },
    {
      "cell_type": "code",
      "execution_count": null,
      "metadata": {
        "colab": {
          "base_uri": "https://localhost:8080/"
        },
        "id": "yWCX3cPaHGK-",
        "outputId": "c03e8c16-c4be-445e-9195-5439d6d2d2b4"
      },
      "outputs": [
        {
          "output_type": "stream",
          "name": "stdout",
          "text": [
            "I Competiçao de Programaçao da Start\n"
          ]
        }
      ],
      "source": [
        "print(\"I Competiçao de Programaçao da Start\")"
      ]
    },
    {
      "cell_type": "code",
      "source": [
        "ano = \"II\"\n",
        "\n",
        "print(ano, \"Competição de Programação da Start\")"
      ],
      "metadata": {
        "colab": {
          "base_uri": "https://localhost:8080/"
        },
        "id": "-lN2iVzHIbCO",
        "outputId": "c9cf63e2-af3a-4381-8db4-ec86cd996817"
      },
      "execution_count": null,
      "outputs": [
        {
          "output_type": "stream",
          "name": "stdout",
          "text": [
            "II Competição de Programação da Start\n"
          ]
        }
      ]
    },
    {
      "cell_type": "code",
      "source": [
        "print(f\"{ano} Competição de programação da start\")"
      ],
      "metadata": {
        "colab": {
          "base_uri": "https://localhost:8080/"
        },
        "id": "AuqUsLBqJbr0",
        "outputId": "4bf67b26-e29d-47ff-8127-fe3c9cb296b7"
      },
      "execution_count": null,
      "outputs": [
        {
          "output_type": "stream",
          "name": "stdout",
          "text": [
            "II Competição de programação da start\n"
          ]
        }
      ]
    },
    {
      "cell_type": "markdown",
      "source": [
        "## Aula 2"
      ],
      "metadata": {
        "id": "t6hxwcunKuDZ"
      }
    },
    {
      "cell_type": "markdown",
      "source": [
        "Uma escola está promovendo uma campanha de incentivo à leitura, em que cada estudante recebe pontos ao concluir livros. Esses pontos podem ser trocados por diferentes premios da escola. As categorias de livros têm valores de pontos diferentes:\n",
        "\n",
        "* Livro de ficção: 10 pontos\n",
        "* Livro de não-ficção: 8 pontos\n",
        "* Livro infantil: 6 pontos\n",
        "\n",
        "**Problema:**\n",
        "\n",
        "Rodrigo leu um livro de cada categoria. Agora ele quer saber quantos pontos acumulou com sua leitura.\n",
        "\n",
        "Nosso objetivo é criar um programa em Python que:\n",
        "\n",
        "* Armazene a pontuação de cada categoria de livro em uma variável.\n",
        "* Calcule o total de pontos acumulados por Rodrigo.\n",
        "* Mostre na tela o total de pontos acumulados por Rodrigo."
      ],
      "metadata": {
        "id": "b3Q-jF4OLDYP"
      }
    },
    {
      "cell_type": "code",
      "source": [
        "livro_ficçao = 10\n",
        "livro_nficçao = 8\n",
        "livro_infantil = 6\n",
        "\n",
        "pontos_rodrigo = livro_ficçao + livro_nficçao + livro_infantil\n",
        "\n",
        "print(f\"Os pontos totais do Rodrigo são {pontos_rodrigo}\")"
      ],
      "metadata": {
        "colab": {
          "base_uri": "https://localhost:8080/"
        },
        "id": "H5xtLSQoM6Q2",
        "outputId": "50bcab06-6915-42bb-af52-8ef64a38c061"
      },
      "execution_count": null,
      "outputs": [
        {
          "output_type": "stream",
          "name": "stdout",
          "text": [
            "Os pontos totais do Rodrigo são 24\n"
          ]
        }
      ]
    },
    {
      "cell_type": "markdown",
      "source": [
        "##Desafio"
      ],
      "metadata": {
        "id": "bPDbD67PQBML"
      }
    },
    {
      "cell_type": "markdown",
      "source": [
        "Ana também participou da campanha e leu 2 livros de ficção e 5 livros infantis.\n",
        "\n",
        "Como podemos calcular o total de pontos de Ana? Será que é possível calcular o total de pontos acumulados por Rodrigo e Ana juntos?"
      ],
      "metadata": {
        "id": "VoPXX_sOOG9r"
      }
    },
    {
      "cell_type": "code",
      "source": [
        "livro_ficçao = 12\n",
        "livro_nficçao = 8\n",
        "livro_infantil = 11\n",
        "\n",
        "pontos_rodrigo_ana = livro_ficçao + livro_nficçao + livro_infantil\n",
        "\n",
        "print(f\"Os pontos totais do Rodrigo e ana são {pontos_rodrigo_ana}\")"
      ],
      "metadata": {
        "colab": {
          "base_uri": "https://localhost:8080/"
        },
        "id": "910nFzINRTCQ",
        "outputId": "baa6beca-db47-4ff4-96a7-afd98b0b2cf1"
      },
      "execution_count": null,
      "outputs": [
        {
          "output_type": "stream",
          "name": "stdout",
          "text": [
            "Os pontos totais do Rodrigo e ana são 31\n"
          ]
        }
      ]
    },
    {
      "cell_type": "markdown",
      "source": [
        "##Aula 3"
      ],
      "metadata": {
        "id": "5ReOMZr7NFw3"
      }
    },
    {
      "cell_type": "markdown",
      "source": [
        "Divisão do tesouro: https://olimpiada.ic.unicamp.br/passadas/OBI2020/fase1/programacao-b/\n",
        "\n",
        "A turma do 2º ano encontrou um envelope cheio de figurinhas. Para garantir uma divisão justa, todos concordaram com a sugestão de João, o dono do envelope:\n",
        "\n",
        "Cada amigo, exceto João, deve receber exatamente o mesmo número de figurinhas. João deve receber o dobro da quantidade que cada amigo recebe. Pode ser que o fato de João ser o dono do envelope tenha ajudado a convencer os amigos, mas também contribuiu o fato de que, do jeito proposto, a divisão era exata, sem sobrar nem faltar figurinhas.\n",
        "\n",
        "**Problema:**\n",
        "\n",
        "Crie um programa que determine a quantidade de figurinhas que João recebeu, dado o número total de figurinhas no envelope e o número de amigos de João.\n",
        "\n",
        "**Entrada:**\n",
        "\n",
        "* A primeira linha contém um número inteiro `total_figurinhas`, que representa o número de figurinhas no envelope.\n",
        "* A segunda linha contém um número inteiro `numero_amigos`, que representa a quantidade de amigos de João (excluindo o próprio João)."
      ],
      "metadata": {
        "id": "KglQgVfFOhpe"
      }
    },
    {
      "cell_type": "code",
      "source": [
        "total_figurinhas = int(input(\"Digite o total de figurinhas: \"))\n",
        "numero_amigos = int(input(\"Digite o número de amigos: \"))\n",
        "\n",
        "figurinhas_amigos = total_figurinhas // (numero_amigos + 2)\n",
        "\n",
        "figurinhas_joao = 2 * figurinhas_amigos\n",
        "\n",
        "print(f\"João recebeu {figurinhas_joao} figurinhas.\")\n"
      ],
      "metadata": {
        "colab": {
          "base_uri": "https://localhost:8080/"
        },
        "id": "Dn-rJm1lO4d1",
        "outputId": "acfb425a-ecfe-4813-de5c-01cf826cb5f1"
      },
      "execution_count": null,
      "outputs": [
        {
          "output_type": "stream",
          "name": "stdout",
          "text": [
            "Digite o total de figurinhas: 100\n",
            "Digite o número de amigos: 5\n",
            "João recebeu 28 figurinhas.\n"
          ]
        }
      ]
    },
    {
      "cell_type": "markdown",
      "source": [
        "##Desafio"
      ],
      "metadata": {
        "id": "ZadeEHG-PSRM"
      }
    },
    {
      "cell_type": "markdown",
      "source": [
        "Depois de dividir as figurinhas no recreio, João percebeu que ainda havia algumas figurinhas extras em sua mochila. Ele decidiu que essas figurinhas extras também devem ser distribuídas de forma justa entre ele e seus amigos, mantendo a mesma regra:\n",
        "\n",
        "Cada amigo recebe uma quantidade igual de figurinhas.\n",
        "João recebe o dobro da quantidade de figurinhas que cada amigo recebe.\n",
        "Ajude João a distribuir todas as figurinhas, incluindo as extras, de maneira justa, sem deixar nenhuma figurinha sobrando.\n",
        "\n",
        "Entrada\n",
        "\n",
        "* número total de figurinhas no envelope.\n",
        "* número de amigos de João (excluindo o próprio João).\n",
        "* número de figurinhas extras encontradas na mochila de João.\n",
        "* calcular a nova quantidade total de figurinhas, somando as extras.\n",
        "* dividir as figurinhas entre João e seus amigos, garantindo que João receba o dobro de figurinhas que cada amigo.\n",
        "exibir a quantidade de figurinhas que João recebeu."
      ],
      "metadata": {
        "id": "kqa257VWPl9l"
      }
    },
    {
      "cell_type": "code",
      "source": [
        "figurinhas = int(input(\"Figurinhas extras: \"))\n",
        "amigos = int(input(\"Número de amigos: \"))\n",
        "\n",
        "divisor = amigos + 2 # amigos + João (2x)\n",
        "\n",
        "if figurinhas % divisor != 0:\n",
        "    x = figurinhas // divisor\n",
        "    print(f\"Cada amigo recebe {x}\")\n",
        "    print(f\"João recebe {2 * x}\")\n",
        "else:\n",
        "    print(\"Não é possível distribuir de forma justa.\")\n"
      ],
      "metadata": {
        "colab": {
          "base_uri": "https://localhost:8080/"
        },
        "id": "Fref0tgFrG3P",
        "outputId": "94aed57f-17fc-4397-d14d-22698ae0d49e"
      },
      "execution_count": null,
      "outputs": [
        {
          "output_type": "stream",
          "name": "stdout",
          "text": [
            "Figurinhas extras: 40\n",
            "Número de amigos: 4\n",
            "Cada amigo recebe 6\n",
            "João recebe 12\n"
          ]
        }
      ]
    },
    {
      "cell_type": "markdown",
      "source": [
        "##Aula 4"
      ],
      "metadata": {
        "id": "wVVwH0gOtatU"
      }
    },
    {
      "cell_type": "markdown",
      "source": [
        "Bondinho - link: https://olimpiada.ic.unicamp.br/pratique/pj/2017/f1/bondinho/\n",
        "\n",
        "\n",
        "A turma de um colégio está organizando uma excursão para a serra e, para chegar ao pico da montanha, todos os alunos e monitores devem usar um bondinho. No entanto, a cabine do bondinho tem uma capacidade máxima de 50 pessoas por viagem.\n",
        "\n",
        "Você precisa criar um programa que verifique se todos os alunos e monitores podem ser transportados em apenas uma viagem.\n",
        "\n",
        "**Entrada**\n",
        "\n",
        "* Um número inteiro `numero_alunos`, representando a quantidade de alunos na excursão.\n",
        "* Um número inteiro `numero_monitores`, representando a quantidade de monitores na excursão."
      ],
      "metadata": {
        "id": "QI-ImOtDtvbh"
      }
    },
    {
      "cell_type": "code",
      "source": [
        "numero_alunos = int(input(\"Digite a quantidade de alunos: \"))\n",
        "numero_monitores = int(input(\"Digite a quantidade de monitores: \"))\n",
        "resposta_positiva = \"Pode ir\"\n",
        "resposta_negativa = \"Não pode ir\"\n",
        "\n",
        "if numero_alunos + numero_monitores <= 50:\n",
        "  print(resposta_positiva)\n",
        "else:\n",
        "  print(resposta_negativa)"
      ],
      "metadata": {
        "colab": {
          "base_uri": "https://localhost:8080/"
        },
        "id": "cMoAd0DJt1xa",
        "outputId": "a629a2ef-a23e-4508-c5bb-235291fc9dda"
      },
      "execution_count": null,
      "outputs": [
        {
          "output_type": "stream",
          "name": "stdout",
          "text": [
            "Digite a quantidade de alunos: 10\n",
            "Digite a quantidade de monitores: 10\n",
            "Pode ir\n"
          ]
        }
      ]
    },
    {
      "cell_type": "markdown",
      "source": [
        "##Desafio"
      ],
      "metadata": {
        "id": "59lC7hTcNGYY"
      }
    },
    {
      "cell_type": "markdown",
      "source": [
        "Agora, imagine que infelizmente o bondinho que carrega 50 pessoas está em manutenção e agora todo mundo vai precisar usar um bondinho menos sofisticado e ele só pode levar 30 pessoas. Além disso, 8 professores do colégio também vão participar da excursão. Como fazemos para garantir que o número total de pessoas no bondinho (alunos, monitores e professores) não ultrapasse a capacidade máxima de 30 pessoas?\n",
        "\n",
        "Seu desafio é escrever um programa que verifique se é possível ou não levar todos em apenas uma viagem."
      ],
      "metadata": {
        "id": "tfnUtCPhNNoA"
      }
    },
    {
      "cell_type": "code",
      "source": [
        "def verificar_capacidade(alunos, monitores):\n",
        "    # Número de professores fixo\n",
        "    professores = 8\n",
        "\n",
        "    # Total de pessoas\n",
        "    total_pessoas = alunos + monitores + professores\n",
        "\n",
        "    # Capacidade máxima do bondinho\n",
        "    capacidade_maxima = 30\n",
        "\n",
        "    # Verifica se o total de pessoas não ultrapassa a capacidade\n",
        "    if total_pessoas <= capacidade_maxima:\n",
        "        return \"Sim, é possível levar todos na mesma viagem.\"\n",
        "    else:\n",
        "        return \"Não é possível levar todos na mesma viagem.\"\n",
        "\n",
        "# Exemplo de uso:\n",
        "alunos = int(input(\"Digite o número de alunos: \"))\n",
        "monitores = int(input(\"Digite o número de monitores: \"))\n",
        "\n",
        "resultado = verificar_capacidade(alunos, monitores)\n",
        "print(resultado)\n"
      ],
      "metadata": {
        "colab": {
          "base_uri": "https://localhost:8080/"
        },
        "id": "JUwx7UD1Ne5Y",
        "outputId": "765f052f-84f9-4abb-f0e2-0ffe9cff3427"
      },
      "execution_count": 2,
      "outputs": [
        {
          "output_type": "stream",
          "name": "stdout",
          "text": [
            "Digite o número de alunos: 30\n",
            "Digite o número de monitores: 8\n",
            "Não é possível levar todos na mesma viagem.\n"
          ]
        }
      ]
    }
  ]
}